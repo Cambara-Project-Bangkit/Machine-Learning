{
  "nbformat": 4,
  "nbformat_minor": 0,
  "metadata": {
    "colab": {
      "provenance": [],
      "gpuType": "T4"
    },
    "kernelspec": {
      "name": "python3",
      "display_name": "Python 3"
    },
    "language_info": {
      "name": "python"
    },
    "accelerator": "GPU"
  },
  "cells": [
    {
      "cell_type": "markdown",
      "source": [
        "## **Clone GitHub**\n",
        "\n",
        "clonning GitHub to adding dataset model"
      ],
      "metadata": {
        "id": "fdu9d3s62bUx"
      }
    },
    {
      "cell_type": "code",
      "execution_count": 1,
      "metadata": {
        "colab": {
          "base_uri": "https://localhost:8080/"
        },
        "id": "O9YWeMrOq58w",
        "outputId": "50afcce1-0c3e-40b5-c2c4-26f8f5033ce9"
      },
      "outputs": [
        {
          "output_type": "stream",
          "name": "stdout",
          "text": [
            "Cloning into 'Machine-Learning'...\n",
            "remote: Enumerating objects: 10070, done.\u001b[K\n",
            "remote: Counting objects: 100% (626/626), done.\u001b[K\n",
            "remote: Compressing objects: 100% (73/73), done.\u001b[K\n",
            "remote: Total 10070 (delta 560), reused 604 (delta 553), pack-reused 9444\u001b[K\n",
            "Receiving objects: 100% (10070/10070), 235.23 MiB | 22.20 MiB/s, done.\n",
            "Resolving deltas: 100% (4358/4358), done.\n",
            "Updating files: 100% (9882/9882), done.\n"
          ]
        }
      ],
      "source": [
        "!git clone https://github.com/Cambara-Project-Bangkit/Machine-Learning.git"
      ]
    },
    {
      "cell_type": "markdown",
      "source": [
        "## **Import Library**"
      ],
      "metadata": {
        "id": "pVeg6dBc20dF"
      }
    },
    {
      "cell_type": "code",
      "source": [
        "import cv2 as cv\n",
        "import os\n",
        "import tensorflow as tf\n",
        "import numpy as np\n",
        "import matplotlib.pyplot as plt\n",
        "import shutil\n",
        "from sklearn.model_selection import train_test_split\n",
        "from tensorflow.keras.preprocessing.image import ImageDataGenerator\n",
        "from tensorflow.keras.applications import MobileNet\n",
        "from tensorflow.keras.models import Sequential\n",
        "from tensorflow.keras.layers import Dense, GlobalAveragePooling2D, Flatten\n",
        "from tensorflow.keras.optimizers import Adam"
      ],
      "metadata": {
        "id": "96p0tZrGq-MI"
      },
      "execution_count": 2,
      "outputs": []
    },
    {
      "cell_type": "markdown",
      "source": [
        "## **Set Dataset Directory**"
      ],
      "metadata": {
        "id": "w0bDJflU26o6"
      }
    },
    {
      "cell_type": "code",
      "source": [
        "# dataset path directory\n",
        "dataset_path = \"/content/Machine-Learning/Dataset_Hasil/DatasetAksaraWianjana2\"\n",
        "\n",
        "# Path for  directory for  training and validation data\n",
        "base_output_path = \"/content/Machine-Learning/Dataset_Hasil/DatasetAksaraWianjana2\"\n",
        "train_data_dir = os.path.join(base_output_path, \"train_data\")\n",
        "validation_data_dir = os.path.join(base_output_path, \"val_data\")\n"
      ],
      "metadata": {
        "id": "VIBpgNAK_Hli"
      },
      "execution_count": 3,
      "outputs": []
    },
    {
      "cell_type": "markdown",
      "source": [
        "## **Spliting Datasets to 80 for training and 20 for Validarion**\n"
      ],
      "metadata": {
        "id": "DMn3BgVi82FB"
      }
    },
    {
      "cell_type": "code",
      "source": [
        "# List all class in dataset aksara Wianjana\n",
        "classes = os.listdir(dataset_path)\n",
        "\n",
        "# Looping through every class\n",
        "for class_name in classes:\n",
        "    class_path = os.path.join(dataset_path, class_name)\n",
        "\n",
        "    # get list file  in each class\n",
        "    files = os.listdir(class_path)\n",
        "\n",
        "    # split dataset to training and  validation data, training data(80%) and validation(20%)\n",
        "    train_files, validation_files = train_test_split(files, test_size=0.2, random_state=42)\n",
        "\n",
        "    # making new directory\n",
        "    os.makedirs(os.path.join(train_data_dir, class_name), exist_ok=True)\n",
        "    os.makedirs(os.path.join(validation_data_dir, class_name), exist_ok=True)\n",
        "\n",
        "    # move file to training data directory\n",
        "    for file in train_files:\n",
        "        source_path = os.path.join(class_path, file)\n",
        "        destination_path = os.path.join(train_data_dir, class_name, file)\n",
        "        shutil.copyfile(source_path, destination_path)\n",
        "\n",
        "    # move file to  validation data directory\n",
        "    for file in validation_files:\n",
        "        source_path = os.path.join(class_path, file)\n",
        "        destination_path = os.path.join(validation_data_dir, class_name, file)\n",
        "        shutil.copyfile(source_path, destination_path)\n",
        "\n",
        "print(\"Split  Dataset  to 80% for training and 20% for validation successfully.\")"
      ],
      "metadata": {
        "colab": {
          "base_uri": "https://localhost:8080/"
        },
        "id": "GywnqWTI_JKF",
        "outputId": "29d7f322-0fe5-4134-8225-a15e9236f0f0"
      },
      "execution_count": 4,
      "outputs": [
        {
          "output_type": "stream",
          "name": "stdout",
          "text": [
            "Split  Dataset  to 80% for training and 20% for validation successfully.\n"
          ]
        }
      ]
    },
    {
      "cell_type": "markdown",
      "source": [
        "## **Data Augmentation**"
      ],
      "metadata": {
        "id": "zrkHnatn87UQ"
      }
    },
    {
      "cell_type": "code",
      "source": [
        "# Path ke direktori training dan validation\n",
        "# train_data_dir = '/content/aksara_bali_assets/data_training'\n",
        "# validation_data_dir = '/content/aksara_bali_assets/data_validation'\n",
        "\n",
        "img_width, img_height = 64, 64\n",
        "batch_size = 32\n",
        "\n",
        "# Data Augmentation\n",
        "train_datagen = ImageDataGenerator(\n",
        "      rescale = 1./255,\n",
        "\t    rotation_range=0,\n",
        "      width_shift_range=0.2,\n",
        "      height_shift_range=0.2,\n",
        "      shear_range=0.2,\n",
        "      zoom_range=0.2,\n",
        "      horizontal_flip=False,\n",
        "      fill_mode='nearest')\n",
        "\n",
        "validation_datagen = ImageDataGenerator(rescale=1. / 255)\n",
        "\n",
        "train_generator = train_datagen.flow_from_directory(\n",
        "    train_data_dir,\n",
        "    target_size=(img_width, img_height),\n",
        "    batch_size=batch_size,\n",
        "    class_mode='categorical'\n",
        ")\n",
        "\n",
        "validation_generator = validation_datagen.flow_from_directory(\n",
        "    validation_data_dir,\n",
        "    target_size=(img_width, img_height),\n",
        "    batch_size=batch_size,\n",
        "    class_mode='categorical'\n",
        ")"
      ],
      "metadata": {
        "colab": {
          "base_uri": "https://localhost:8080/"
        },
        "id": "Oo8j7lvOrZjX",
        "outputId": "381c621a-9b18-4849-9240-407af5a66dd4"
      },
      "execution_count": 5,
      "outputs": [
        {
          "output_type": "stream",
          "name": "stdout",
          "text": [
            "Found 3290 images belonging to 18 classes.\n",
            "Found 832 images belonging to 18 classes.\n"
          ]
        }
      ]
    },
    {
      "cell_type": "markdown",
      "source": [
        "## **Importing Pre Trained Model**\n",
        "\n",
        "This case pre trained models that are imported are : **MobileNet**"
      ],
      "metadata": {
        "id": "Ah60tSDh8_ic"
      }
    },
    {
      "cell_type": "code",
      "source": [
        "# Load MobileNet model pre-trained on ImageNet data\n",
        "base_model = MobileNet(weights='imagenet', include_top=False, input_shape = (64, 64, 3))"
      ],
      "metadata": {
        "colab": {
          "base_uri": "https://localhost:8080/"
        },
        "id": "1KF0iLgprbsk",
        "outputId": "696fe574-9024-4f97-a87b-5e0c06b18b8f"
      },
      "execution_count": 6,
      "outputs": [
        {
          "output_type": "stream",
          "name": "stderr",
          "text": [
            "WARNING:tensorflow:`input_shape` is undefined or non-square, or `rows` is not in [128, 160, 192, 224]. Weights for input shape (224, 224) will be loaded as the default.\n"
          ]
        },
        {
          "output_type": "stream",
          "name": "stdout",
          "text": [
            "Downloading data from https://storage.googleapis.com/tensorflow/keras-applications/mobilenet/mobilenet_1_0_224_tf_no_top.h5\n",
            "17225924/17225924 [==============================] - 0s 0us/step\n"
          ]
        }
      ]
    },
    {
      "cell_type": "markdown",
      "source": [
        "## **Making Layer for Model**"
      ],
      "metadata": {
        "id": "-0nesWMT9D1c"
      }
    },
    {
      "cell_type": "code",
      "source": [
        "# Create a custom model\n",
        "model = Sequential()\n",
        "model.add(base_model)\n",
        "model.add(GlobalAveragePooling2D())\n",
        "# model.add(Flatten())\n",
        "# model.add()\n",
        "model.add(Dense(256, activation='relu'))\n",
        "model.add(Dense(18, activation='softmax'))\n",
        "\n",
        "model.summary()"
      ],
      "metadata": {
        "colab": {
          "base_uri": "https://localhost:8080/"
        },
        "id": "RYKpNtuorgxM",
        "outputId": "0ed41955-0ea9-451f-9f07-4b1b6c0683ad"
      },
      "execution_count": 7,
      "outputs": [
        {
          "output_type": "stream",
          "name": "stdout",
          "text": [
            "Model: \"sequential\"\n",
            "_________________________________________________________________\n",
            " Layer (type)                Output Shape              Param #   \n",
            "=================================================================\n",
            " mobilenet_1.00_224 (Functi  (None, 2, 2, 1024)        3228864   \n",
            " onal)                                                           \n",
            "                                                                 \n",
            " global_average_pooling2d (  (None, 1024)              0         \n",
            " GlobalAveragePooling2D)                                         \n",
            "                                                                 \n",
            " dense (Dense)               (None, 256)               262400    \n",
            "                                                                 \n",
            " dense_1 (Dense)             (None, 18)                4626      \n",
            "                                                                 \n",
            "=================================================================\n",
            "Total params: 3495890 (13.34 MB)\n",
            "Trainable params: 3474002 (13.25 MB)\n",
            "Non-trainable params: 21888 (85.50 KB)\n",
            "_________________________________________________________________\n"
          ]
        }
      ]
    },
    {
      "cell_type": "markdown",
      "source": [
        "## **Compile Model**"
      ],
      "metadata": {
        "id": "joTLkZs89HBF"
      }
    },
    {
      "cell_type": "code",
      "source": [
        "model.compile(optimizer=Adam(learning_rate=0.001), loss='categorical_crossentropy', metrics=['accuracy'])"
      ],
      "metadata": {
        "id": "ffxxc7gxsFF7"
      },
      "execution_count": 8,
      "outputs": []
    },
    {
      "cell_type": "markdown",
      "source": [
        "## **Training The Model**"
      ],
      "metadata": {
        "id": "tlWhYS-X9LGm"
      }
    },
    {
      "cell_type": "code",
      "source": [
        "epochs = 100\n",
        "\n",
        "history = model.fit(\n",
        "    train_generator,\n",
        "    steps_per_epoch=train_generator.samples // 32,\n",
        "    epochs=epochs,\n",
        "    validation_data=validation_generator,\n",
        "    validation_steps=validation_generator.samples // 32\n",
        ")"
      ],
      "metadata": {
        "colab": {
          "base_uri": "https://localhost:8080/"
        },
        "id": "Ye1qQ5IJsR2T",
        "outputId": "5f519035-ee08-43ca-a79f-417a5b07b9b8"
      },
      "execution_count": 9,
      "outputs": [
        {
          "output_type": "stream",
          "name": "stdout",
          "text": [
            "Epoch 1/100\n",
            "102/102 [==============================] - 30s 97ms/step - loss: 1.6698 - accuracy: 0.5120 - val_loss: 1.8966 - val_accuracy: 0.5096\n",
            "Epoch 2/100\n",
            "102/102 [==============================] - 7s 73ms/step - loss: 0.6114 - accuracy: 0.8060 - val_loss: 0.7279 - val_accuracy: 0.8029\n",
            "Epoch 3/100\n",
            "102/102 [==============================] - 9s 89ms/step - loss: 0.4191 - accuracy: 0.8760 - val_loss: 0.5227 - val_accuracy: 0.8750\n",
            "Epoch 4/100\n",
            "102/102 [==============================] - 9s 90ms/step - loss: 0.3498 - accuracy: 0.8938 - val_loss: 0.3287 - val_accuracy: 0.8906\n",
            "Epoch 5/100\n",
            "102/102 [==============================] - 8s 74ms/step - loss: 0.3022 - accuracy: 0.9055 - val_loss: 0.7787 - val_accuracy: 0.8137\n",
            "Epoch 6/100\n",
            "102/102 [==============================] - 9s 90ms/step - loss: 0.2549 - accuracy: 0.9248 - val_loss: 0.2078 - val_accuracy: 0.9303\n",
            "Epoch 7/100\n",
            "102/102 [==============================] - 10s 95ms/step - loss: 0.2681 - accuracy: 0.9168 - val_loss: 0.3538 - val_accuracy: 0.9014\n",
            "Epoch 8/100\n",
            "102/102 [==============================] - 7s 73ms/step - loss: 0.1947 - accuracy: 0.9435 - val_loss: 0.2997 - val_accuracy: 0.9207\n",
            "Epoch 9/100\n",
            "102/102 [==============================] - 8s 81ms/step - loss: 0.2357 - accuracy: 0.9306 - val_loss: 0.3120 - val_accuracy: 0.9147\n",
            "Epoch 10/100\n",
            "102/102 [==============================] - 9s 89ms/step - loss: 0.1784 - accuracy: 0.9463 - val_loss: 0.3397 - val_accuracy: 0.9231\n",
            "Epoch 11/100\n",
            "102/102 [==============================] - 7s 72ms/step - loss: 0.2083 - accuracy: 0.9343 - val_loss: 0.3518 - val_accuracy: 0.9111\n",
            "Epoch 12/100\n",
            "102/102 [==============================] - 9s 87ms/step - loss: 0.1671 - accuracy: 0.9487 - val_loss: 0.2674 - val_accuracy: 0.9327\n",
            "Epoch 13/100\n",
            "102/102 [==============================] - 8s 79ms/step - loss: 0.1902 - accuracy: 0.9509 - val_loss: 0.1575 - val_accuracy: 0.9495\n",
            "Epoch 14/100\n",
            "102/102 [==============================] - 8s 76ms/step - loss: 0.1451 - accuracy: 0.9561 - val_loss: 0.1926 - val_accuracy: 0.9423\n",
            "Epoch 15/100\n",
            "102/102 [==============================] - 9s 85ms/step - loss: 0.1744 - accuracy: 0.9475 - val_loss: 0.1972 - val_accuracy: 0.9483\n",
            "Epoch 16/100\n",
            "102/102 [==============================] - 7s 68ms/step - loss: 0.1706 - accuracy: 0.9537 - val_loss: 0.3292 - val_accuracy: 0.9002\n",
            "Epoch 17/100\n",
            "102/102 [==============================] - 7s 70ms/step - loss: 0.1294 - accuracy: 0.9601 - val_loss: 0.1626 - val_accuracy: 0.9639\n",
            "Epoch 18/100\n",
            "102/102 [==============================] - 9s 87ms/step - loss: 0.1413 - accuracy: 0.9616 - val_loss: 0.4233 - val_accuracy: 0.8834\n",
            "Epoch 19/100\n",
            "102/102 [==============================] - 8s 81ms/step - loss: 0.1453 - accuracy: 0.9561 - val_loss: 0.2705 - val_accuracy: 0.9399\n",
            "Epoch 20/100\n",
            "102/102 [==============================] - 8s 74ms/step - loss: 0.1541 - accuracy: 0.9561 - val_loss: 0.1930 - val_accuracy: 0.9567\n",
            "Epoch 21/100\n",
            "102/102 [==============================] - 9s 85ms/step - loss: 0.1341 - accuracy: 0.9626 - val_loss: 0.1374 - val_accuracy: 0.9639\n",
            "Epoch 22/100\n",
            "102/102 [==============================] - 7s 72ms/step - loss: 0.1322 - accuracy: 0.9607 - val_loss: 0.2835 - val_accuracy: 0.9279\n",
            "Epoch 23/100\n",
            "102/102 [==============================] - 9s 87ms/step - loss: 0.1537 - accuracy: 0.9570 - val_loss: 0.1952 - val_accuracy: 0.9339\n",
            "Epoch 24/100\n",
            "102/102 [==============================] - 9s 89ms/step - loss: 0.1350 - accuracy: 0.9610 - val_loss: 0.0829 - val_accuracy: 0.9724\n",
            "Epoch 25/100\n",
            "102/102 [==============================] - 8s 81ms/step - loss: 0.1416 - accuracy: 0.9629 - val_loss: 0.1978 - val_accuracy: 0.9459\n",
            "Epoch 26/100\n",
            "102/102 [==============================] - 9s 91ms/step - loss: 0.1492 - accuracy: 0.9616 - val_loss: 0.1826 - val_accuracy: 0.9351\n",
            "Epoch 27/100\n",
            "102/102 [==============================] - 9s 89ms/step - loss: 0.0900 - accuracy: 0.9736 - val_loss: 0.1849 - val_accuracy: 0.9495\n",
            "Epoch 28/100\n",
            "102/102 [==============================] - 8s 75ms/step - loss: 0.1355 - accuracy: 0.9613 - val_loss: 0.1779 - val_accuracy: 0.9615\n",
            "Epoch 29/100\n",
            "102/102 [==============================] - 9s 89ms/step - loss: 0.0920 - accuracy: 0.9721 - val_loss: 0.1052 - val_accuracy: 0.9772\n",
            "Epoch 30/100\n",
            "102/102 [==============================] - 7s 72ms/step - loss: 0.1245 - accuracy: 0.9650 - val_loss: 0.1233 - val_accuracy: 0.9651\n",
            "Epoch 31/100\n",
            "102/102 [==============================] - 9s 90ms/step - loss: 0.1113 - accuracy: 0.9678 - val_loss: 0.1519 - val_accuracy: 0.9639\n",
            "Epoch 32/100\n",
            "102/102 [==============================] - 9s 91ms/step - loss: 0.1150 - accuracy: 0.9644 - val_loss: 0.1480 - val_accuracy: 0.9531\n",
            "Epoch 33/100\n",
            "102/102 [==============================] - 7s 72ms/step - loss: 0.1517 - accuracy: 0.9555 - val_loss: 0.1821 - val_accuracy: 0.9603\n",
            "Epoch 34/100\n",
            "102/102 [==============================] - 9s 89ms/step - loss: 0.1084 - accuracy: 0.9656 - val_loss: 0.1323 - val_accuracy: 0.9627\n",
            "Epoch 35/100\n",
            "102/102 [==============================] - 7s 72ms/step - loss: 0.1239 - accuracy: 0.9662 - val_loss: 0.0986 - val_accuracy: 0.9772\n",
            "Epoch 36/100\n",
            "102/102 [==============================] - 9s 89ms/step - loss: 0.1082 - accuracy: 0.9690 - val_loss: 0.1031 - val_accuracy: 0.9675\n",
            "Epoch 37/100\n",
            "102/102 [==============================] - 9s 88ms/step - loss: 0.0942 - accuracy: 0.9770 - val_loss: 0.0974 - val_accuracy: 0.9700\n",
            "Epoch 38/100\n",
            "102/102 [==============================] - 7s 72ms/step - loss: 0.1297 - accuracy: 0.9650 - val_loss: 0.1566 - val_accuracy: 0.9639\n",
            "Epoch 39/100\n",
            "102/102 [==============================] - 9s 88ms/step - loss: 0.1098 - accuracy: 0.9705 - val_loss: 0.2293 - val_accuracy: 0.9447\n",
            "Epoch 40/100\n",
            "102/102 [==============================] - 7s 73ms/step - loss: 0.1151 - accuracy: 0.9681 - val_loss: 0.1049 - val_accuracy: 0.9724\n",
            "Epoch 41/100\n",
            "102/102 [==============================] - 7s 72ms/step - loss: 0.0821 - accuracy: 0.9764 - val_loss: 0.0953 - val_accuracy: 0.9675\n",
            "Epoch 42/100\n",
            "102/102 [==============================] - 8s 78ms/step - loss: 0.1075 - accuracy: 0.9718 - val_loss: 0.0688 - val_accuracy: 0.9784\n",
            "Epoch 43/100\n",
            "102/102 [==============================] - 9s 86ms/step - loss: 0.0751 - accuracy: 0.9788 - val_loss: 0.0885 - val_accuracy: 0.9760\n",
            "Epoch 44/100\n",
            "102/102 [==============================] - 8s 76ms/step - loss: 0.0758 - accuracy: 0.9773 - val_loss: 0.0881 - val_accuracy: 0.9736\n",
            "Epoch 45/100\n",
            "102/102 [==============================] - 8s 79ms/step - loss: 0.0702 - accuracy: 0.9804 - val_loss: 0.1954 - val_accuracy: 0.9363\n",
            "Epoch 46/100\n",
            "102/102 [==============================] - 9s 87ms/step - loss: 0.0968 - accuracy: 0.9733 - val_loss: 0.1594 - val_accuracy: 0.9663\n",
            "Epoch 47/100\n",
            "102/102 [==============================] - 7s 70ms/step - loss: 0.1079 - accuracy: 0.9708 - val_loss: 0.1388 - val_accuracy: 0.9651\n",
            "Epoch 48/100\n",
            "102/102 [==============================] - 8s 81ms/step - loss: 0.1070 - accuracy: 0.9708 - val_loss: 0.0984 - val_accuracy: 0.9700\n",
            "Epoch 49/100\n",
            "102/102 [==============================] - 9s 85ms/step - loss: 0.1183 - accuracy: 0.9699 - val_loss: 0.1347 - val_accuracy: 0.9639\n",
            "Epoch 50/100\n",
            "102/102 [==============================] - 7s 69ms/step - loss: 0.0885 - accuracy: 0.9776 - val_loss: 0.0945 - val_accuracy: 0.9712\n",
            "Epoch 51/100\n",
            "102/102 [==============================] - 9s 84ms/step - loss: 0.0889 - accuracy: 0.9751 - val_loss: 0.1438 - val_accuracy: 0.9651\n",
            "Epoch 52/100\n",
            "102/102 [==============================] - 9s 88ms/step - loss: 0.0810 - accuracy: 0.9800 - val_loss: 0.0697 - val_accuracy: 0.9808\n",
            "Epoch 53/100\n",
            "102/102 [==============================] - 7s 69ms/step - loss: 0.0937 - accuracy: 0.9715 - val_loss: 0.1913 - val_accuracy: 0.9615\n",
            "Epoch 54/100\n",
            "102/102 [==============================] - 9s 86ms/step - loss: 0.1072 - accuracy: 0.9715 - val_loss: 0.1621 - val_accuracy: 0.9603\n",
            "Epoch 55/100\n",
            "102/102 [==============================] - 9s 90ms/step - loss: 0.0817 - accuracy: 0.9767 - val_loss: 0.1722 - val_accuracy: 0.9543\n",
            "Epoch 56/100\n",
            "102/102 [==============================] - 7s 70ms/step - loss: 0.0760 - accuracy: 0.9779 - val_loss: 0.1183 - val_accuracy: 0.9675\n",
            "Epoch 57/100\n",
            "102/102 [==============================] - 9s 88ms/step - loss: 0.0716 - accuracy: 0.9797 - val_loss: 0.1703 - val_accuracy: 0.9579\n",
            "Epoch 58/100\n",
            "102/102 [==============================] - 8s 75ms/step - loss: 0.0863 - accuracy: 0.9779 - val_loss: 0.1178 - val_accuracy: 0.9688\n",
            "Epoch 59/100\n",
            "102/102 [==============================] - 7s 71ms/step - loss: 0.0699 - accuracy: 0.9810 - val_loss: 0.0979 - val_accuracy: 0.9820\n",
            "Epoch 60/100\n",
            "102/102 [==============================] - 9s 88ms/step - loss: 0.0925 - accuracy: 0.9764 - val_loss: 0.4529 - val_accuracy: 0.9050\n",
            "Epoch 61/100\n",
            "102/102 [==============================] - 8s 79ms/step - loss: 0.0949 - accuracy: 0.9758 - val_loss: 0.1060 - val_accuracy: 0.9700\n",
            "Epoch 62/100\n",
            "102/102 [==============================] - 7s 70ms/step - loss: 0.0793 - accuracy: 0.9816 - val_loss: 0.0873 - val_accuracy: 0.9796\n",
            "Epoch 63/100\n",
            "102/102 [==============================] - 9s 88ms/step - loss: 0.0837 - accuracy: 0.9754 - val_loss: 0.1938 - val_accuracy: 0.9507\n",
            "Epoch 64/100\n",
            "102/102 [==============================] - 9s 87ms/step - loss: 0.0805 - accuracy: 0.9748 - val_loss: 0.1784 - val_accuracy: 0.9615\n",
            "Epoch 65/100\n",
            "102/102 [==============================] - 7s 71ms/step - loss: 0.0807 - accuracy: 0.9788 - val_loss: 0.0431 - val_accuracy: 0.9856\n",
            "Epoch 66/100\n",
            "102/102 [==============================] - 9s 87ms/step - loss: 0.0694 - accuracy: 0.9788 - val_loss: 0.1566 - val_accuracy: 0.9531\n",
            "Epoch 67/100\n",
            "102/102 [==============================] - 7s 70ms/step - loss: 0.0691 - accuracy: 0.9822 - val_loss: 0.1293 - val_accuracy: 0.9603\n",
            "Epoch 68/100\n",
            "102/102 [==============================] - 9s 87ms/step - loss: 0.0645 - accuracy: 0.9804 - val_loss: 0.0760 - val_accuracy: 0.9796\n",
            "Epoch 69/100\n",
            "102/102 [==============================] - 9s 89ms/step - loss: 0.1027 - accuracy: 0.9705 - val_loss: 0.1089 - val_accuracy: 0.9760\n",
            "Epoch 70/100\n",
            "102/102 [==============================] - 7s 72ms/step - loss: 0.0965 - accuracy: 0.9721 - val_loss: 0.0866 - val_accuracy: 0.9856\n",
            "Epoch 71/100\n",
            "102/102 [==============================] - 8s 77ms/step - loss: 0.0566 - accuracy: 0.9874 - val_loss: 0.0727 - val_accuracy: 0.9844\n",
            "Epoch 72/100\n",
            "102/102 [==============================] - 9s 86ms/step - loss: 0.0600 - accuracy: 0.9837 - val_loss: 0.0827 - val_accuracy: 0.9772\n",
            "Epoch 73/100\n",
            "102/102 [==============================] - 7s 70ms/step - loss: 0.0599 - accuracy: 0.9813 - val_loss: 0.0962 - val_accuracy: 0.9796\n",
            "Epoch 74/100\n",
            "102/102 [==============================] - 8s 77ms/step - loss: 0.0686 - accuracy: 0.9810 - val_loss: 0.0728 - val_accuracy: 0.9796\n",
            "Epoch 75/100\n",
            "102/102 [==============================] - 9s 88ms/step - loss: 0.0708 - accuracy: 0.9813 - val_loss: 0.1051 - val_accuracy: 0.9748\n",
            "Epoch 76/100\n",
            "102/102 [==============================] - 8s 73ms/step - loss: 0.0788 - accuracy: 0.9779 - val_loss: 0.1759 - val_accuracy: 0.9579\n",
            "Epoch 77/100\n",
            "102/102 [==============================] - 7s 71ms/step - loss: 0.0932 - accuracy: 0.9785 - val_loss: 0.3014 - val_accuracy: 0.9303\n",
            "Epoch 78/100\n",
            "102/102 [==============================] - 8s 78ms/step - loss: 0.0801 - accuracy: 0.9788 - val_loss: 0.2813 - val_accuracy: 0.9375\n",
            "Epoch 79/100\n",
            "102/102 [==============================] - 9s 88ms/step - loss: 0.0565 - accuracy: 0.9794 - val_loss: 0.0756 - val_accuracy: 0.9832\n",
            "Epoch 80/100\n",
            "102/102 [==============================] - 7s 71ms/step - loss: 0.0676 - accuracy: 0.9822 - val_loss: 0.0763 - val_accuracy: 0.9832\n",
            "Epoch 81/100\n",
            "102/102 [==============================] - 7s 71ms/step - loss: 0.0542 - accuracy: 0.9862 - val_loss: 0.1070 - val_accuracy: 0.9784\n",
            "Epoch 82/100\n",
            "102/102 [==============================] - 8s 82ms/step - loss: 0.0301 - accuracy: 0.9929 - val_loss: 0.1256 - val_accuracy: 0.9724\n",
            "Epoch 83/100\n",
            "102/102 [==============================] - 9s 89ms/step - loss: 0.0904 - accuracy: 0.9773 - val_loss: 0.0693 - val_accuracy: 0.9856\n",
            "Epoch 84/100\n",
            "102/102 [==============================] - 8s 74ms/step - loss: 0.0724 - accuracy: 0.9813 - val_loss: 0.1114 - val_accuracy: 0.9651\n",
            "Epoch 85/100\n",
            "102/102 [==============================] - 8s 81ms/step - loss: 0.0553 - accuracy: 0.9865 - val_loss: 0.1173 - val_accuracy: 0.9748\n",
            "Epoch 86/100\n",
            "102/102 [==============================] - 9s 86ms/step - loss: 0.0703 - accuracy: 0.9816 - val_loss: 0.1000 - val_accuracy: 0.9796\n",
            "Epoch 87/100\n",
            "102/102 [==============================] - 7s 71ms/step - loss: 0.0600 - accuracy: 0.9847 - val_loss: 0.1018 - val_accuracy: 0.9748\n",
            "Epoch 88/100\n",
            "102/102 [==============================] - 7s 71ms/step - loss: 0.0488 - accuracy: 0.9877 - val_loss: 0.1745 - val_accuracy: 0.9675\n",
            "Epoch 89/100\n",
            "102/102 [==============================] - 9s 86ms/step - loss: 0.0642 - accuracy: 0.9853 - val_loss: 0.1644 - val_accuracy: 0.9603\n",
            "Epoch 90/100\n",
            "102/102 [==============================] - 7s 72ms/step - loss: 0.0976 - accuracy: 0.9733 - val_loss: 0.1093 - val_accuracy: 0.9724\n",
            "Epoch 91/100\n",
            "102/102 [==============================] - 9s 84ms/step - loss: 0.0521 - accuracy: 0.9877 - val_loss: 0.1287 - val_accuracy: 0.9724\n",
            "Epoch 92/100\n",
            "102/102 [==============================] - 8s 83ms/step - loss: 0.0567 - accuracy: 0.9874 - val_loss: 0.0794 - val_accuracy: 0.9832\n",
            "Epoch 93/100\n",
            "102/102 [==============================] - 7s 70ms/step - loss: 0.0569 - accuracy: 0.9847 - val_loss: 0.1721 - val_accuracy: 0.9603\n",
            "Epoch 94/100\n",
            "102/102 [==============================] - 8s 74ms/step - loss: 0.0748 - accuracy: 0.9807 - val_loss: 0.0910 - val_accuracy: 0.9796\n",
            "Epoch 95/100\n",
            "102/102 [==============================] - 9s 87ms/step - loss: 0.0657 - accuracy: 0.9850 - val_loss: 0.0694 - val_accuracy: 0.9784\n",
            "Epoch 96/100\n",
            "102/102 [==============================] - 7s 69ms/step - loss: 0.0438 - accuracy: 0.9883 - val_loss: 0.1403 - val_accuracy: 0.9736\n",
            "Epoch 97/100\n",
            "102/102 [==============================] - 8s 76ms/step - loss: 0.0663 - accuracy: 0.9819 - val_loss: 0.1060 - val_accuracy: 0.9772\n",
            "Epoch 98/100\n",
            "102/102 [==============================] - 9s 86ms/step - loss: 0.0694 - accuracy: 0.9816 - val_loss: 0.1401 - val_accuracy: 0.9627\n",
            "Epoch 99/100\n",
            "102/102 [==============================] - 7s 70ms/step - loss: 0.0536 - accuracy: 0.9840 - val_loss: 0.1245 - val_accuracy: 0.9700\n",
            "Epoch 100/100\n",
            "102/102 [==============================] - 9s 87ms/step - loss: 0.0561 - accuracy: 0.9847 - val_loss: 0.1221 - val_accuracy: 0.9603\n"
          ]
        }
      ]
    },
    {
      "cell_type": "markdown",
      "source": [
        "## **Grafic training and validation accuracy**"
      ],
      "metadata": {
        "id": "tvgcb3E79VN6"
      }
    },
    {
      "cell_type": "code",
      "source": [
        "acc = history.history['accuracy']\n",
        "val_acc = history.history['val_accuracy']\n",
        "loss = history.history['loss']\n",
        "val_loss = history.history['val_loss']\n",
        "\n",
        "epochs = range(len(acc))\n",
        "\n",
        "plt.plot(epochs, acc, 'r', label='Training accuracy')\n",
        "plt.plot(epochs, val_acc, 'b', label='Validation accuracy')\n",
        "plt.title('Training and validation accuracy')\n",
        "plt.legend(loc=0)\n",
        "plt.figure()\n",
        "\n",
        "plt.show()"
      ],
      "metadata": {
        "colab": {
          "base_uri": "https://localhost:8080/",
          "height": 469
        },
        "id": "_QglxId35Xp4",
        "outputId": "0b7f4c8c-db18-4bc9-a22f-ad539e00090f"
      },
      "execution_count": 10,
      "outputs": [
        {
          "output_type": "display_data",
          "data": {
            "text/plain": [
              "<Figure size 640x480 with 1 Axes>"
            ],
            "image/png": "[encoded data removed]"
          },
          "metadata": {}
        },
        {
          "output_type": "display_data",
          "data": {
            "text/plain": [
              "<Figure size 640x480 with 0 Axes>"
            ]
          },
          "metadata": {}
        }
      ]
    },
    {
      "cell_type": "markdown",
      "source": [
        "## **Check the Accuracy with test data**"
      ],
      "metadata": {
        "id": "Hm8rDHeF9c84"
      }
    },
    {
      "cell_type": "code",
      "source": [
        "train_data_dir = '/content/Machine-Learning/Dataset_Hasil/Data_Test_Aksara'\n",
        "test_datagen = ImageDataGenerator(rescale=1./255)\n",
        "test_generator = test_datagen.flow_from_directory(\n",
        "    train_data_dir,\n",
        "    target_size=(img_height, img_width),\n",
        "    batch_size=batch_size,\n",
        "    class_mode='categorical')\n",
        "\n",
        "evaluation = model.evaluate(test_generator)\n",
        "print(f\"Test Accuracy: {evaluation[1]*100:.2f}%\")"
      ],
      "metadata": {
        "colab": {
          "base_uri": "https://localhost:8080/"
        },
        "id": "mBRk2HUw2QBH",
        "outputId": "9a9ee044-aa21-4bac-8399-a4ec46f3b989"
      },
      "execution_count": 11,
      "outputs": [
        {
          "output_type": "stream",
          "name": "stdout",
          "text": [
            "Found 378 images belonging to 18 classes.\n",
            "12/12 [==============================] - 0s 20ms/step - loss: 0.2145 - accuracy: 0.9444\n",
            "Test Accuracy: 94.44%\n"
          ]
        }
      ]
    },
    {
      "cell_type": "markdown",
      "source": [
        "## **Check the Accuracy with confusion matrixs**"
      ],
      "metadata": {
        "id": "Rt2rrpkQ9f9x"
      }
    },
    {
      "cell_type": "code",
      "source": [
        "from sklearn.metrics import confusion_matrix, classification_report\n",
        "\n",
        "# Mendapatkan prediksi dari model\n",
        "y_pred = model.predict(test_generator)\n",
        "\n",
        "# Mengubah prediksi probabilitas menjadi kelas yang diprediksi\n",
        "y_pred_classes = np.argmax(y_pred, axis=1)\n",
        "\n",
        "# Mendapatkan kelas yang sebenarnya\n",
        "y_true = test_generator.classes\n",
        "\n",
        "# Membuat matriks konfusi\n",
        "confusion_mtx = confusion_matrix(y_true, y_pred_classes)\n",
        "\n",
        "print(\"Confusion Matrix:\")\n",
        "print(confusion_mtx)\n",
        "\n",
        "# Menampilkan laporan klasifikasi\n",
        "class_report = classification_report(y_true, y_pred_classes)\n",
        "print(\"\\nClassification Report:\")\n",
        "print(class_report)"
      ],
      "metadata": {
        "colab": {
          "base_uri": "https://localhost:8080/"
        },
        "id": "iZ5SgtBYa0n2",
        "outputId": "95609dd7-e405-4390-d62a-1e459c86e313"
      },
      "execution_count": 12,
      "outputs": [
        {
          "output_type": "stream",
          "name": "stdout",
          "text": [
            "12/12 [==============================] - 1s 18ms/step\n",
            "Confusion Matrix:\n",
            "[[4 0 1 0 0 0 0 4 2 2 2 0 1 1 0 3 1 0]\n",
            " [0 1 2 0 2 1 1 0 2 1 2 2 1 2 3 0 1 0]\n",
            " [0 0 1 1 0 0 1 2 0 3 2 1 2 2 1 1 3 1]\n",
            " [1 2 2 3 1 0 0 0 3 0 0 2 0 2 2 0 3 0]\n",
            " [0 1 1 1 2 1 2 0 2 0 1 2 2 3 0 1 1 1]\n",
            " [1 1 1 1 1 1 1 0 3 1 0 3 1 2 0 1 2 1]\n",
            " [0 3 1 1 1 2 1 0 0 1 0 4 2 0 1 1 1 2]\n",
            " [0 0 0 1 0 0 2 3 0 0 4 2 2 1 3 0 3 0]\n",
            " [2 1 1 1 0 0 1 2 3 1 2 3 1 1 2 0 0 0]\n",
            " [2 1 0 1 2 4 2 3 2 0 0 0 2 0 1 0 0 1]\n",
            " [3 0 1 1 1 0 0 1 0 1 0 4 2 2 2 1 1 1]\n",
            " [1 2 2 2 2 1 0 0 0 1 1 0 2 0 1 2 2 2]\n",
            " [4 1 0 1 1 0 1 0 1 1 1 2 0 2 2 0 1 3]\n",
            " [0 1 1 0 1 4 2 0 1 1 2 0 2 0 0 2 2 2]\n",
            " [2 1 2 0 3 0 1 0 0 0 1 1 0 1 1 3 1 4]\n",
            " [1 0 2 0 2 1 3 1 1 4 1 0 0 0 0 2 2 1]\n",
            " [2 4 1 0 1 1 1 1 1 3 0 1 0 1 2 0 1 1]\n",
            " [0 1 2 1 1 1 2 2 0 1 1 0 2 1 1 3 1 1]]\n",
            "\n",
            "Classification Report:\n",
            "              precision    recall  f1-score   support\n",
            "\n",
            "           0       0.17      0.19      0.18        21\n",
            "           1       0.05      0.05      0.05        21\n",
            "           2       0.05      0.05      0.05        21\n",
            "           3       0.20      0.14      0.17        21\n",
            "           4       0.10      0.10      0.10        21\n",
            "           5       0.06      0.05      0.05        21\n",
            "           6       0.05      0.05      0.05        21\n",
            "           7       0.16      0.14      0.15        21\n",
            "           8       0.14      0.14      0.14        21\n",
            "           9       0.00      0.00      0.00        21\n",
            "          10       0.00      0.00      0.00        21\n",
            "          11       0.00      0.00      0.00        21\n",
            "          12       0.00      0.00      0.00        21\n",
            "          13       0.00      0.00      0.00        21\n",
            "          14       0.05      0.05      0.05        21\n",
            "          15       0.10      0.10      0.10        21\n",
            "          16       0.04      0.05      0.04        21\n",
            "          17       0.05      0.05      0.05        21\n",
            "\n",
            "    accuracy                           0.06       378\n",
            "   macro avg       0.07      0.06      0.06       378\n",
            "weighted avg       0.07      0.06      0.06       378\n",
            "\n"
          ]
        }
      ]
    },
    {
      "cell_type": "markdown",
      "source": [
        "## **Save Model with h5 format**"
      ],
      "metadata": {
        "id": "CYrKctLx9m-A"
      }
    },
    {
      "cell_type": "code",
      "source": [
        "model.save('/content/ModelMobileNet.h5')"
      ],
      "metadata": {
        "colab": {
          "base_uri": "https://localhost:8080/"
        },
        "id": "A3IcPR0lc4d5",
        "outputId": "0dd795b1-fdf5-4dc8-8ba3-005b714e317d"
      },
      "execution_count": 13,
      "outputs": [
        {
          "output_type": "stream",
          "name": "stderr",
          "text": [
            "/usr/local/lib/python3.10/dist-packages/keras/src/engine/training.py:3079: UserWarning: You are saving your model as an HDF5 file via `model.save()`. This file format is considered legacy. We recommend using instead the native Keras format, e.g. `model.save('my_model.keras')`.\n",
            "  saving_api.save_model(\n"
          ]
        }
      ]
    },
    {
      "cell_type": "code",
      "source": [
        "\n",
        "# converter = tf.lite.TFLiteConverter.from_keras_model(model)\n",
        "# converter.optimizations = [tf.lite.Optimize.DEFAULT]\n",
        "\n",
        "# tflite_model = converter.convert()\n",
        "\n",
        "# with open('model.tflite', 'wb') as f:\n",
        "#     f.write(tflite_model)"
      ],
      "metadata": {
        "id": "qNHy1ah_gf8Y"
      },
      "execution_count": 14,
      "outputs": []
    }
  ]
}