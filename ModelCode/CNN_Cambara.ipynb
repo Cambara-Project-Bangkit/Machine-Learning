{
  "nbformat": 4,
  "nbformat_minor": 0,
  "metadata": {
    "colab": {
      "provenance": []
    },
    "kernelspec": {
      "name": "python3",
      "display_name": "Python 3"
    },
    "language_info": {
      "name": "python"
    }
  },
  "cells": [
    {
      "cell_type": "markdown",
      "source": [
        "**CNN for Cambara App**"
      ],
      "metadata": {
        "id": "BkUo4W1uwMvk"
      }
    },
    {
      "cell_type": "markdown",
      "source": [
        "Library yang dibutuhkan"
      ],
      "metadata": {
        "id": "vNO7kVrAwwYK"
      }
    },
    {
      "cell_type": "code",
      "source": [
        "import io\n",
        "import os\n",
        "import tensorflow as tf\n",
        "import matplotlib.pyplot as plt\n",
        "import numpy as np\n",
        "import IPython.display as display\n",
        "from tensorflow.keras import layers, models\n",
        "from tensorflow.keras.preprocessing.image import ImageDataGenerator\n",
        "from google.colab import drive\n",
        "drive.mount('/content/drive')\n",
        "from tensorflow.keras.preprocessing import image\n",
        "from google.colab import files"
      ],
      "metadata": {
        "id": "veKMfK3RwzWo",
        "colab": {
          "base_uri": "https://localhost:8080/"
        },
        "outputId": "1f483dc6-8766-4823-c3ea-adcbb7a9e652"
      },
      "execution_count": 1,
      "outputs": [
        {
          "output_type": "stream",
          "name": "stdout",
          "text": [
            "Drive already mounted at /content/drive; to attempt to forcibly remount, call drive.mount(\"/content/drive\", force_remount=True).\n"
          ]
        }
      ]
    },
    {
      "cell_type": "markdown",
      "source": [
        "Path Dir untuk Datasetnya"
      ],
      "metadata": {
        "id": "sQJy9ql8w7uP"
      }
    },
    {
      "cell_type": "code",
      "source": [
        "base_dir = '/content/drive/MyDrive/Aksara'\n",
        "!ls '/content/drive/MyDrive/Aksara'\n",
        "\n",
        "train_dir = os.path.join(base_dir, 'Data_Train_Aksara')\n",
        "val_dir = os.path.join(base_dir, 'Data_Test_Aksara')\n",
        "\n",
        "train_data_dir = '/content/drive/MyDrive/Aksara/Data_Train_Aksara'\n",
        "validation_data_dir = '/content/drive/MyDrive/Aksara/Data_Test_Aksara'"
      ],
      "metadata": {
        "id": "pZl3AOVBxCo6",
        "colab": {
          "base_uri": "https://localhost:8080/"
        },
        "outputId": "dd67c11c-dde6-4c7d-d992-e26858211fd7"
      },
      "execution_count": 2,
      "outputs": [
        {
          "output_type": "stream",
          "name": "stdout",
          "text": [
            "Dara_Test_Aksara2  DatasetAksaraWianjana2  Data_Test_Aksara  Data_Train_Aksara\n"
          ]
        }
      ]
    },
    {
      "cell_type": "markdown",
      "source": [
        "CNN Model"
      ],
      "metadata": {
        "id": "E3pwBGiPxR-7"
      }
    },
    {
      "cell_type": "code",
      "source": [
        "model = models.Sequential([\n",
        "    layers.Conv2D(32, (3, 3), input_shape=(150, 150, 3), activation='relu'),\n",
        "    layers.MaxPooling2D((2, 2)),\n",
        "    layers.Conv2D(64, (3, 3), activation='relu'),\n",
        "    layers.MaxPooling2D((2, 2)),\n",
        "    layers.Conv2D(128, (3, 3), activation='relu'),\n",
        "    layers.MaxPooling2D((2, 2)),\n",
        "    layers.Flatten(),\n",
        "    layers.Dense(256, activation='relu'),\n",
        "    layers.Dense(18, activation='softmax')\n",
        "])\n",
        "\n",
        "model.compile(optimizer='adam', loss='categorical_crossentropy', metrics=['accuracy'])\n",
        "\n",
        "train_datagen = ImageDataGenerator(rescale=1./255, shear_range=0.2, zoom_range=0.2, horizontal_flip=True)\n",
        "test_datagen = ImageDataGenerator(rescale=1./255)\n",
        "\n",
        "train_generator = train_datagen.flow_from_directory(train_data_dir, target_size=(150, 150), batch_size=32, class_mode='categorical')\n",
        "validation_generator = test_datagen.flow_from_directory(validation_data_dir, target_size=(150, 150), batch_size=32, class_mode='categorical')\n",
        "\n",
        "#Syntax untuk train modelnya\n",
        "history = model.fit(train_generator, steps_per_epoch=118,validation_data=validation_generator, validation_steps=50, epochs=10)\n",
        "\n",
        "model.save('aksara_bali_model.h5')"
      ],
      "metadata": {
        "id": "U6e9avk7xcbg",
        "colab": {
          "base_uri": "https://localhost:8080/"
        },
        "outputId": "a80e7a39-3c44-4f67-8417-5322fc378dd5"
      },
      "execution_count": 3,
      "outputs": [
        {
          "output_type": "stream",
          "name": "stdout",
          "text": [
            "Found 3787 images belonging to 18 classes.\n",
            "Found 1615 images belonging to 18 classes.\n",
            "Epoch 1/10\n",
            "118/118 [==============================] - 262s 2s/step - loss: 1.9698 - accuracy: 0.3846 - val_loss: 1.2314 - val_accuracy: 0.6219\n",
            "Epoch 2/10\n",
            "118/118 [==============================] - 245s 2s/step - loss: 0.7057 - accuracy: 0.7694 - val_loss: 1.1544 - val_accuracy: 0.6825\n",
            "Epoch 3/10\n",
            "118/118 [==============================] - 245s 2s/step - loss: 0.4361 - accuracy: 0.8522 - val_loss: 1.0184 - val_accuracy: 0.7625\n",
            "Epoch 4/10\n",
            "118/118 [==============================] - 245s 2s/step - loss: 0.3063 - accuracy: 0.9015 - val_loss: 1.1026 - val_accuracy: 0.7844\n",
            "Epoch 5/10\n",
            "118/118 [==============================] - 226s 2s/step - loss: 0.2378 - accuracy: 0.9201 - val_loss: 0.9740 - val_accuracy: 0.7931\n",
            "Epoch 6/10\n",
            "118/118 [==============================] - 244s 2s/step - loss: 0.2235 - accuracy: 0.9260 - val_loss: 0.9977 - val_accuracy: 0.8125\n",
            "Epoch 7/10\n",
            "118/118 [==============================] - 243s 2s/step - loss: 0.1446 - accuracy: 0.9534 - val_loss: 1.0156 - val_accuracy: 0.8112\n",
            "Epoch 8/10\n",
            "118/118 [==============================] - 242s 2s/step - loss: 0.1269 - accuracy: 0.9619 - val_loss: 1.1085 - val_accuracy: 0.7994\n",
            "Epoch 9/10\n",
            "118/118 [==============================] - 256s 2s/step - loss: 0.1214 - accuracy: 0.9614 - val_loss: 1.2782 - val_accuracy: 0.8100\n",
            "Epoch 10/10\n",
            "118/118 [==============================] - 246s 2s/step - loss: 0.1014 - accuracy: 0.9682 - val_loss: 1.3218 - val_accuracy: 0.8037\n"
          ]
        },
        {
          "output_type": "stream",
          "name": "stderr",
          "text": [
            "/usr/local/lib/python3.10/dist-packages/keras/src/engine/training.py:3079: UserWarning: You are saving your model as an HDF5 file via `model.save()`. This file format is considered legacy. We recommend using instead the native Keras format, e.g. `model.save('my_model.keras')`.\n",
            "  saving_api.save_model(\n"
          ]
        }
      ]
    },
    {
      "cell_type": "markdown",
      "source": [
        "Visualisasi akurasi terhadap training dan validasi data"
      ],
      "metadata": {
        "id": "PbQnGYZryp14"
      }
    },
    {
      "cell_type": "code",
      "source": [
        "plt.plot(history.history['accuracy'], label='Training Accuracy')\n",
        "plt.plot(history.history['val_accuracy'], label='Validation Accuracy')\n",
        "plt.xlabel('Epoch')\n",
        "plt.ylabel('Accuracy')\n",
        "plt.legend()\n",
        "plt.show()"
      ],
      "metadata": {
        "id": "K43hJJp5yPdp",
        "colab": {
          "base_uri": "https://localhost:8080/",
          "height": 449
        },
        "outputId": "44890c8d-8086-42bf-9bf2-851b320c0d6f"
      },
      "execution_count": 4,
      "outputs": [
        {
          "output_type": "display_data",
          "data": {
            "text/plain": [
              "<Figure size 640x480 with 1 Axes>"
            ],
            "image/png": "[encoded data removed]"
          },
          "metadata": {}
        }
      ]
    },
    {
      "cell_type": "markdown",
      "source": [
        "Ujicoba"
      ],
      "metadata": {
        "id": "6nrEgLcUyyi8"
      }
    },
    {
      "cell_type": "code",
      "source": [
        "loaded_model = tf.keras.models.load_model('aksara_bali_model.h5') #manggil model h5\n",
        "\n",
        "def preprocess_image(img):\n",
        "    img = image.load_img(img, target_size=(150, 150))\n",
        "    img_array = image.img_to_array(img)\n",
        "    img_array = np.expand_dims(img_array, axis=0)\n",
        "    img_array /= 255.0\n",
        "    return img_array #preprocessing terhadap image yang dimasukkan\n",
        "\n",
        "uploaded = files.upload()\n",
        "\n",
        "img_path = list(uploaded.keys())[0]\n",
        "img = preprocess_image(io.BytesIO(uploaded[img_path]))\n",
        "display.display(display.Image(data=uploaded[img_path], width=150, height=150))\n",
        "\n",
        "prediksi = loaded_model.predict(img)\n",
        "index_kelas_prediksi = np.argmax(prediksi)\n",
        "hasil_prediksi = list(train_generator.class_indices.keys())[index_kelas_prediksi]\n",
        "\n",
        "print(\"Gambar tersebut merupakan huruf\", hasil_prediksi)"
      ],
      "metadata": {
        "id": "Z-1VlVOGy35-",
        "colab": {
          "base_uri": "https://localhost:8080/",
          "height": 257
        },
        "outputId": "189bf5f5-7d7a-400d-be71-c1bdacdb7171"
      },
      "execution_count": 16,
      "outputs": [
        {
          "output_type": "display_data",
          "data": {
            "text/plain": [
              "<IPython.core.display.HTML object>"
            ],
            "text/html": [
              "\n",
              "     <input type=\"file\" id=\"files-7f8daa07-0783-480b-9e2a-018e0d45164e\" name=\"files[]\" multiple disabled\n",
              "        style=\"border:none\" />\n",
              "     <output id=\"result-7f8daa07-0783-480b-9e2a-018e0d45164e\">\n",
              "      Upload widget is only available when the cell has been executed in the\n",
              "      current browser session. Please rerun this cell to enable.\n",
              "      </output>\n",
              "      <script>// Copyright 2017 Google LLC\n",
              "//\n",
              "// Licensed under the Apache License, Version 2.0 (the \"License\");\n",
              "// you may not use this file except in compliance with the License.\n",
              "// You may obtain a copy of the License at\n",
              "//\n",
              "//      http://www.apache.org/licenses/LICENSE-2.0\n",
              "//\n",
              "// Unless required by applicable law or agreed to in writing, software\n",
              "// distributed under the License is distributed on an \"AS IS\" BASIS,\n",
              "// WITHOUT WARRANTIES OR CONDITIONS OF ANY KIND, either express or implied.\n",
              "// See the License for the specific language governing permissions and\n",
              "// limitations under the License.\n",
              "\n",
              "/**\n",
              " * @fileoverview Helpers for google.colab Python module.\n",
              " */\n",
              "(function(scope) {\n",
              "function span(text, styleAttributes = {}) {\n",
              "  const element = document.createElement('span');\n",
              "  element.textContent = text;\n",
              "  for (const key of Object.keys(styleAttributes)) {\n",
              "    element.style[key] = styleAttributes[key];\n",
              "  }\n",
              "  return element;\n",
              "}\n",
              "\n",
              "// Max number of bytes which will be uploaded at a time.\n",
              "const MAX_PAYLOAD_SIZE = 100 * 1024;\n",
              "\n",
              "function _uploadFiles(inputId, outputId) {\n",
              "  const steps = uploadFilesStep(inputId, outputId);\n",
              "  const outputElement = document.getElementById(outputId);\n",
              "  // Cache steps on the outputElement to make it available for the next call\n",
              "  // to uploadFilesContinue from Python.\n",
              "  outputElement.steps = steps;\n",
              "\n",
              "  return _uploadFilesContinue(outputId);\n",
              "}\n",
              "\n",
              "// This is roughly an async generator (not supported in the browser yet),\n",
              "// where there are multiple asynchronous steps and the Python side is going\n",
              "// to poll for completion of each step.\n",
              "// This uses a Promise to block the python side on completion of each step,\n",
              "// then passes the result of the previous step as the input to the next step.\n",
              "function _uploadFilesContinue(outputId) {\n",
              "  const outputElement = document.getElementById(outputId);\n",
              "  const steps = outputElement.steps;\n",
              "\n",
              "  const next = steps.next(outputElement.lastPromiseValue);\n",
              "  return Promise.resolve(next.value.promise).then((value) => {\n",
              "    // Cache the last promise value to make it available to the next\n",
              "    // step of the generator.\n",
              "    outputElement.lastPromiseValue = value;\n",
              "    return next.value.response;\n",
              "  });\n",
              "}\n",
              "\n",
              "/**\n",
              " * Generator function which is called between each async step of the upload\n",
              " * process.\n",
              " * @param {string} inputId Element ID of the input file picker element.\n",
              " * @param {string} outputId Element ID of the output display.\n",
              " * @return {!Iterable<!Object>} Iterable of next steps.\n",
              " */\n",
              "function* uploadFilesStep(inputId, outputId) {\n",
              "  const inputElement = document.getElementById(inputId);\n",
              "  inputElement.disabled = false;\n",
              "\n",
              "  const outputElement = document.getElementById(outputId);\n",
              "  outputElement.innerHTML = '';\n",
              "\n",
              "  const pickedPromise = new Promise((resolve) => {\n",
              "    inputElement.addEventListener('change', (e) => {\n",
              "      resolve(e.target.files);\n",
              "    });\n",
              "  });\n",
              "\n",
              "  const cancel = document.createElement('button');\n",
              "  inputElement.parentElement.appendChild(cancel);\n",
              "  cancel.textContent = 'Cancel upload';\n",
              "  const cancelPromise = new Promise((resolve) => {\n",
              "    cancel.onclick = () => {\n",
              "      resolve(null);\n",
              "    };\n",
              "  });\n",
              "\n",
              "  // Wait for the user to pick the files.\n",
              "  const files = yield {\n",
              "    promise: Promise.race([pickedPromise, cancelPromise]),\n",
              "    response: {\n",
              "      action: 'starting',\n",
              "    }\n",
              "  };\n",
              "\n",
              "  cancel.remove();\n",
              "\n",
              "  // Disable the input element since further picks are not allowed.\n",
              "  inputElement.disabled = true;\n",
              "\n",
              "  if (!files) {\n",
              "    return {\n",
              "      response: {\n",
              "        action: 'complete',\n",
              "      }\n",
              "    };\n",
              "  }\n",
              "\n",
              "  for (const file of files) {\n",
              "    const li = document.createElement('li');\n",
              "    li.append(span(file.name, {fontWeight: 'bold'}));\n",
              "    li.append(span(\n",
              "        `(${file.type || 'n/a'}) - ${file.size} bytes, ` +\n",
              "        `last modified: ${\n",
              "            file.lastModifiedDate ? file.lastModifiedDate.toLocaleDateString() :\n",
              "                                    'n/a'} - `));\n",
              "    const percent = span('0% done');\n",
              "    li.appendChild(percent);\n",
              "\n",
              "    outputElement.appendChild(li);\n",
              "\n",
              "    const fileDataPromise = new Promise((resolve) => {\n",
              "      const reader = new FileReader();\n",
              "      reader.onload = (e) => {\n",
              "        resolve(e.target.result);\n",
              "      };\n",
              "      reader.readAsArrayBuffer(file);\n",
              "    });\n",
              "    // Wait for the data to be ready.\n",
              "    let fileData = yield {\n",
              "      promise: fileDataPromise,\n",
              "      response: {\n",
              "        action: 'continue',\n",
              "      }\n",
              "    };\n",
              "\n",
              "    // Use a chunked sending to avoid message size limits. See b/62115660.\n",
              "    let position = 0;\n",
              "    do {\n",
              "      const length = Math.min(fileData.byteLength - position, MAX_PAYLOAD_SIZE);\n",
              "      const chunk = new Uint8Array(fileData, position, length);\n",
              "      position += length;\n",
              "\n",
              "      const base64 = btoa(String.fromCharCode.apply(null, chunk));\n",
              "      yield {\n",
              "        response: {\n",
              "          action: 'append',\n",
              "          file: file.name,\n",
              "          data: base64,\n",
              "        },\n",
              "      };\n",
              "\n",
              "      let percentDone = fileData.byteLength === 0 ?\n",
              "          100 :\n",
              "          Math.round((position / fileData.byteLength) * 100);\n",
              "      percent.textContent = `${percentDone}% done`;\n",
              "\n",
              "    } while (position < fileData.byteLength);\n",
              "  }\n",
              "\n",
              "  // All done.\n",
              "  yield {\n",
              "    response: {\n",
              "      action: 'complete',\n",
              "    }\n",
              "  };\n",
              "}\n",
              "\n",
              "scope.google = scope.google || {};\n",
              "scope.google.colab = scope.google.colab || {};\n",
              "scope.google.colab._files = {\n",
              "  _uploadFiles,\n",
              "  _uploadFilesContinue,\n",
              "};\n",
              "})(self);\n",
              "</script> "
            ]
          },
          "metadata": {}
        },
        {
          "output_type": "stream",
          "name": "stdout",
          "text": [
            "Saving 1coba.png to 1coba.png\n"
          ]
        },
        {
          "output_type": "display_data",
          "data": {
            "image/png": "[encoded data removed]",
            "text/plain": [
              "<IPython.core.display.Image object>"
            ]
          },
          "metadata": {
            "image/png": {
              "width": 150,
              "height": 150
            }
          }
        },
        {
          "output_type": "stream",
          "name": "stdout",
          "text": [
            "1/1 [==============================] - 0s 143ms/step\n",
            "Gambar tersebut merupakan huruf Ka\n"
          ]
        }
      ]
    }
  ]
}