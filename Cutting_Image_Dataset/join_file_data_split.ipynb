{
  "nbformat": 4,
  "nbformat_minor": 0,
  "metadata": {
    "colab": {
      "provenance": []
    },
    "kernelspec": {
      "name": "python3",
      "display_name": "Python 3"
    },
    "language_info": {
      "name": "python"
    }
  },
  "cells": [
    {
      "cell_type": "code",
      "execution_count": null,
      "metadata": {
        "id": "4QeFh4CmaSwT"
      },
      "outputs": [],
      "source": [
        "import os\n",
        "import shutil\n",
        "\n",
        "def join_folder(src_train, src_val, dst):\n",
        "    # make new folder\n",
        "    if not os.path.exists(dst):\n",
        "        os.makedirs(dst)\n",
        "\n",
        "    # Loop subfolder in train folder\n",
        "    for subfolder_train in os.listdir(src_train):\n",
        "        # make complate path for each subfolder in train and validation\n",
        "        path_train = os.path.join(src_train, subfolder_train)\n",
        "        path_val = os.path.join(src_val, subfolder_train)\n",
        "\n",
        "        # make subfolder in destination folder\n",
        "        path_dst_subfolder = os.path.join(dst, subfolder_train)\n",
        "        if not os.path.exists(path_dst_subfolder):\n",
        "            os.makedirs(path_dst_subfolder)\n",
        "\n",
        "        # Loop to traint subfolder\n",
        "        for file_train in os.listdir(path_train):\n",
        "            # make complite path in train subfolder\n",
        "            path_file_train = os.path.join(path_train, file_train)\n",
        "\n",
        "            # define destination path for combine file\n",
        "            path_dst = os.path.join(dst, subfolder_train, file_train)\n",
        "\n",
        "            # Copy file in train to destination\n",
        "            shutil.copyfile(path_file_train, path_dst)\n",
        "\n",
        "        # Loop subfolder in validation folder\n",
        "        for file_val in os.listdir(path_val):\n",
        "            #  make complate path for each subfolder in validation\n",
        "            path_file_val = os.path.join(path_val, file_val)\n",
        "\n",
        "            # define destination path tujuan to marge file\n",
        "            path_dst = os.path.join(dst, subfolder_train, file_val)\n",
        "\n",
        "            # Copy file in validation to destination\n",
        "            shutil.copyfile(path_file_val, path_dst)\n",
        "\n",
        "# Tentukan path folder train, folder validation, dan folder tujuan di Google Drive\n",
        "src_train = '/content/drive/MyDrive/DataSplitCambara/data_training'\n",
        "src_val = '/content/drive/MyDrive/DataSplitCambara/data_validation'\n",
        "dst = '/content/drive/MyDrive/DataSplitCambara'\n",
        "\n",
        "# Panggil fungsi untuk menggabungkan folder\n",
        "join_folder(src_train, src_val, dst)"
      ]
    }
  ]
}